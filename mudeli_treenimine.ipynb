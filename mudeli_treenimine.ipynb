{
 "cells": [
  {
   "cell_type": "markdown",
   "id": "8fd32ce1",
   "metadata": {},
   "source": [
    "### Impordid"
   ]
  },
  {
   "cell_type": "code",
   "execution_count": 55,
   "id": "580bf50b",
   "metadata": {},
   "outputs": [],
   "source": [
    "import numpy as np\n",
    "import pandas as pd\n",
    "\n",
    "# video\n",
    "import cv2 as cv\n",
    "\n",
    "# kõnesüntees\n",
    "# from gtts import gTTS\n",
    "import IPython.display as ipd\n",
    "\n",
    "# vb ajutine\n",
    "import matplotlib.pyplot as plt\n",
    "\n",
    "# mudel\n",
    "import tensorflow as tf\n",
    "from tensorflow import keras\n",
    "import pathlib\n",
    "from keras.models import Sequential\n",
    "from keras.layers import Dense, Conv2D, Rescaling, MaxPooling2D, Flatten, BatchNormalization, Dropout\n",
    "from tensorflow.keras.optimizers import Adam"
   ]
  },
  {
   "cell_type": "markdown",
   "id": "54bc5ad1",
   "metadata": {},
   "source": [
    "### Mudelite ettevalmistus"
   ]
  },
  {
   "cell_type": "code",
   "execution_count": 22,
   "id": "8c7d946d",
   "metadata": {},
   "outputs": [],
   "source": [
    "train_kaust = pathlib.Path('asl_alphabet_train/')\n",
    "\n",
    "test_kaust = pathlib.Path('asl_alphabet_test/')"
   ]
  },
  {
   "cell_type": "code",
   "execution_count": 23,
   "id": "2b4da6f2",
   "metadata": {},
   "outputs": [
    {
     "name": "stdout",
     "output_type": "stream",
     "text": [
      "Found 81000 files belonging to 27 classes.\n",
      "Using 64800 files for training.\n",
      "Found 81000 files belonging to 27 classes.\n",
      "Using 16200 files for validation.\n"
     ]
    }
   ],
   "source": [
    "batch_size = 32\n",
    "img_height = 200\n",
    "img_width = 200\n",
    "\n",
    "train = tf.keras.utils.image_dataset_from_directory(\n",
    "    train_kaust,\n",
    "    labels='inferred',\n",
    "    shuffle=True,\n",
    "    seed=1,\n",
    "    validation_split=0.2,\n",
    "    subset=\"training\",\n",
    "    image_size=(img_height, img_width),\n",
    "    batch_size=batch_size)\n",
    "\n",
    "# test kaustas on ainult 1 pilt iga viipe kohta, seega seda ei saa kasutada valideerimiseks\n",
    "val = tf.keras.utils.image_dataset_from_directory(\n",
    "    train_kaust,\n",
    "    shuffle=True,\n",
    "    seed=1,\n",
    "    validation_split=0.2,\n",
    "    subset=\"validation\",\n",
    "    image_size=(img_height, img_width),\n",
    "    batch_size=batch_size)"
   ]
  },
  {
   "cell_type": "markdown",
   "id": "fbcb5255",
   "metadata": {},
   "source": [
    "### Mudeli treenimine"
   ]
  },
  {
   "cell_type": "code",
   "execution_count": 112,
   "id": "4c81be5c",
   "metadata": {},
   "outputs": [],
   "source": [
    "mudel4 = Sequential()\n",
    "mudel4.add(Rescaling(1./255, input_shape=(img_height, img_width, 3)))\n",
    "\n",
    "mudel4.add(Conv2D(16, 3, padding=\"same\", activation=\"relu\"))\n",
    "mudel4.add(BatchNormalization())\n",
    "mudel4.add(MaxPooling2D())\n",
    "mudel4.add(Conv2D(32, 3, padding=\"same\", activation=\"relu\"))\n",
    "mudel4.add(BatchNormalization())\n",
    "mudel4.add(MaxPooling2D())\n",
    "mudel4.add(Conv2D(64, 3, padding=\"same\", activation=\"relu\"))\n",
    "mudel4.add(Dropout(0.25))\n",
    "mudel4.add(BatchNormalization())\n",
    "mudel4.add(MaxPooling2D())\n",
    "\n",
    "mudel4.add(Flatten())\n",
    "mudel4.add(Dense(256, activation='relu'))\n",
    "mudel4.add(Dense(27, activation='softmax'))"
   ]
  },
  {
   "cell_type": "code",
   "execution_count": 113,
   "id": "6d5f5fc6",
   "metadata": {},
   "outputs": [],
   "source": [
    "mudel4.compile(optimizer='adam',\n",
    "              loss=tf.keras.losses.SparseCategoricalCrossentropy(from_logits=True),\n",
    "              metrics=['accuracy'])"
   ]
  },
  {
   "cell_type": "code",
   "execution_count": 114,
   "id": "7107374a",
   "metadata": {},
   "outputs": [
    {
     "name": "stdout",
     "output_type": "stream",
     "text": [
      "Model: \"sequential_27\"\n",
      "_________________________________________________________________\n",
      " Layer (type)                Output Shape              Param #   \n",
      "=================================================================\n",
      " rescaling_26 (Rescaling)    (None, 200, 200, 3)       0         \n",
      "                                                                 \n",
      " conv2d_62 (Conv2D)          (None, 200, 200, 16)      448       \n",
      "                                                                 \n",
      " batch_normalization_42 (Bat  (None, 200, 200, 16)     64        \n",
      " chNormalization)                                                \n",
      "                                                                 \n",
      " max_pooling2d_60 (MaxPoolin  (None, 100, 100, 16)     0         \n",
      " g2D)                                                            \n",
      "                                                                 \n",
      " conv2d_63 (Conv2D)          (None, 100, 100, 32)      4640      \n",
      "                                                                 \n",
      " batch_normalization_43 (Bat  (None, 100, 100, 32)     128       \n",
      " chNormalization)                                                \n",
      "                                                                 \n",
      " max_pooling2d_61 (MaxPoolin  (None, 50, 50, 32)       0         \n",
      " g2D)                                                            \n",
      "                                                                 \n",
      " conv2d_64 (Conv2D)          (None, 50, 50, 64)        18496     \n",
      "                                                                 \n",
      " dropout_11 (Dropout)        (None, 50, 50, 64)        0         \n",
      "                                                                 \n",
      " batch_normalization_44 (Bat  (None, 50, 50, 64)       256       \n",
      " chNormalization)                                                \n",
      "                                                                 \n",
      " max_pooling2d_62 (MaxPoolin  (None, 25, 25, 64)       0         \n",
      " g2D)                                                            \n",
      "                                                                 \n",
      " flatten_24 (Flatten)        (None, 40000)             0         \n",
      "                                                                 \n",
      " dense_43 (Dense)            (None, 256)               10240256  \n",
      "                                                                 \n",
      " dense_44 (Dense)            (None, 27)                6939      \n",
      "                                                                 \n",
      "=================================================================\n",
      "Total params: 10,271,227\n",
      "Trainable params: 10,271,003\n",
      "Non-trainable params: 224\n",
      "_________________________________________________________________\n"
     ]
    }
   ],
   "source": [
    "mudel4.summary()"
   ]
  },
  {
   "cell_type": "code",
   "execution_count": null,
   "id": "2ee570a3",
   "metadata": {},
   "outputs": [
    {
     "name": "stdout",
     "output_type": "stream",
     "text": [
      "Epoch 1/5\n",
      "2025/2025 [==============================] - 1443s 712ms/step - loss: 2.3486 - accuracy: 0.2977 - val_loss: 1.5036 - val_accuracy: 0.5007\n",
      "Epoch 2/5\n",
      "2025/2025 [==============================] - 1473s 727ms/step - loss: 0.6341 - accuracy: 0.7799 - val_loss: 0.6123 - val_accuracy: 0.7837\n",
      "Epoch 3/5\n",
      "2025/2025 [==============================] - 1620s 800ms/step - loss: 0.3216 - accuracy: 0.8907 - val_loss: 0.5076 - val_accuracy: 0.8523\n",
      "Epoch 4/5\n",
      "2025/2025 [==============================] - 1517s 749ms/step - loss: 0.2162 - accuracy: 0.9288 - val_loss: 1.5568 - val_accuracy: 0.7227\n",
      "Epoch 5/5\n",
      " 370/2025 [====>.........................] - ETA: 18:46 - loss: 0.1811 - accuracy: 0.9418"
     ]
    }
   ],
   "source": [
    "history = mudel4.fit(train, epochs=5, validation_data=val)"
   ]
  },
  {
   "cell_type": "code",
   "execution_count": null,
   "id": "337a08a2",
   "metadata": {},
   "outputs": [],
   "source": [
    "# salvestamine\n",
    "mudel4.save('mudel.h5')"
   ]
  },
  {
   "cell_type": "code",
   "execution_count": null,
   "id": "ea4774c3",
   "metadata": {},
   "outputs": [],
   "source": [
    "# sisse lugemiseks\n",
    "mudel4 = tf.keras.models.load_model('mudel.h5')"
   ]
  }
 ],
 "metadata": {
  "kernelspec": {
   "display_name": "Python 3 (ipykernel)",
   "language": "python",
   "name": "python3"
  },
  "language_info": {
   "codemirror_mode": {
    "name": "ipython",
    "version": 3
   },
   "file_extension": ".py",
   "mimetype": "text/x-python",
   "name": "python",
   "nbconvert_exporter": "python",
   "pygments_lexer": "ipython3",
   "version": "3.9.12"
  }
 },
 "nbformat": 4,
 "nbformat_minor": 5
}
