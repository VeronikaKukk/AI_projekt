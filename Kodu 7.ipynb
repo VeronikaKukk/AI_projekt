{
 "cells": [
  {
   "cell_type": "markdown",
   "id": "cd48d926",
   "metadata": {},
   "source": [
    "Tulemuseks on rakendus (pakitud ühte zip-faili, valmisprogramm koos programmikoodi ja vajadusel installeerimisjuhendiga) ja töö kirjeldus eraldi pdf-failis:\n",
    "\n",
    "Pealkiri\n",
    "Töö eesmärk ja tehisintellekti kasutamise vajadus\n",
    "Kasutatud ideed (nii kursuse materjalidest kui mujalt) koos viidetega\n",
    "Iga autori enda panuse kirjeldus\n",
    "Programmi testimisvõimalused ja vähemalt mõned testimistulemused\n",
    "Töö käigu kirjeldus: millised olid probleemid, mis õnnestus, mis jäi realiseerimata jne (kirjeldatud probleemid ega puudused ei mõju hindele kuidagi negatiivselt)\n",
    "\n",
    "Hindame:\n",
    "Idee originaalsust\n",
    "Lahenduse mahtu ja keerukust (ootame kodutöödega võrreldavas mahus tööd)\n",
    "Tehisintellekti kasutamise mõttekust ja resultatiivsust\n",
    "Disaini ja kasutajamugavust"
   ]
  },
  {
   "cell_type": "markdown",
   "id": "0259c08a",
   "metadata": {},
   "source": [
    "# ASL tähtede tuvastamine videost"
   ]
  },
  {
   "cell_type": "markdown",
   "id": "804f17e4",
   "metadata": {},
   "source": [
    "Projekti kirjeldus siia."
   ]
  },
  {
   "cell_type": "code",
   "execution_count": null,
   "id": "fa98151f",
   "metadata": {},
   "outputs": [],
   "source": [
    "# importimine"
   ]
  },
  {
   "cell_type": "markdown",
   "id": "53fa5a49",
   "metadata": {},
   "source": [
    "Rühmaliikmed: Lauri Lüüsi, Veronika Kukk\n",
    "\n",
    "Meie idee on kasutada masinõpet, et tuvastada ASL tähemärke ja neid kasutajale ette lugeda. \n",
    "\n",
    "1. Treenime mudeli tundma ära ASL tähti Kaggle andmestiku abil.\n",
    "\n",
    "2. Kasutaja näitab kaamerale käemärke, käemärgid tehakse tekstiks.\n",
    "\n",
    "3. Kasutaja näidatud käemärgid loetakse kasutajale ette (kõnesüntees).\n",
    "\n",
    "\n",
    "\n",
    "Sellise projekti abil saaks kasutaja ASL tähti õppida või näha, kas tema viiped on piisavalt korralikud, et mudel seda ära tunneks. \n",
    "\n",
    "Kavatseme kasutada Kaggle andmestiku https://www.kaggle.com/datasets/grassknoted/asl-alphabet"
   ]
  },
  {
   "cell_type": "code",
   "execution_count": null,
   "id": "30f6b5d7",
   "metadata": {},
   "outputs": [],
   "source": []
  }
 ],
 "metadata": {
  "kernelspec": {
   "display_name": "Python 3 (ipykernel)",
   "language": "python",
   "name": "python3"
  },
  "language_info": {
   "codemirror_mode": {
    "name": "ipython",
    "version": 3
   },
   "file_extension": ".py",
   "mimetype": "text/x-python",
   "name": "python",
   "nbconvert_exporter": "python",
   "pygments_lexer": "ipython3",
   "version": "3.8.16"
  }
 },
 "nbformat": 4,
 "nbformat_minor": 5
}
